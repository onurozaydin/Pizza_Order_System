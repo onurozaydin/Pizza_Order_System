{
 "cells": [
  {
   "cell_type": "code",
   "execution_count": 2,
   "id": "c2280933-283f-4992-b273-2ca715b8a369",
   "metadata": {},
   "outputs": [],
   "source": [
    "import csv\n",
    "from datetime import datetime\n",
    "import pandas as pd"
   ]
  },
  {
   "cell_type": "code",
   "execution_count": 3,
   "id": "ff4893f8-9870-4b6e-82d6-4f63ce2a0435",
   "metadata": {},
   "outputs": [],
   "source": [
    "# Menu.txt dosyasını oluştur\n",
    "with open(\"Menu.txt\", \"w\") as f:\n",
    "    f.write(\"* Lütfen Bir Pizza Tabanı Seçiniz:\\n1: Klasik\\n2: Margarita\\n3: Turk Pizza\\n4: Sade Pizza\\n* ve seçeceğiniz sos:\\n11: Zeytin\\n12: Mantarlar\\n13: Keci Peyniri\\n14: Et\\n15: Sogan\\n16: Misir\\n* Teşekkür ederiz!\")\n"
   ]
  },
  {
   "cell_type": "code",
   "execution_count": 4,
   "id": "55f7838e-7591-4f88-9a64-226bdac21904",
   "metadata": {},
   "outputs": [
    {
     "name": "stdout",
     "output_type": "stream",
     "text": [
      "* Lütfen Bir Pizza Tabanı Seçiniz:\n",
      "\n",
      "1: Klasik\n",
      "\n",
      "2: Margarita\n",
      "\n",
      "3: Turk Pizza\n",
      "\n",
      "4: Sade Pizza\n",
      "\n",
      "* ve seçeceğiniz sos:\n",
      "\n",
      "11: Zeytin\n",
      "\n",
      "12: Mantarlar\n",
      "\n",
      "13: Keci Peyniri\n",
      "\n",
      "14: Et\n",
      "\n",
      "15: Sogan\n",
      "\n",
      "16: Misir\n",
      "\n",
      "* Teşekkür ederiz!\n"
     ]
    }
   ],
   "source": [
    "with open(\"Menu.txt\") as menu:\n",
    "    for i in menu:\n",
    "        print(i)\n"
   ]
  },
  {
   "cell_type": "code",
   "execution_count": 5,
   "id": "e237d94b-694a-4925-ba58-5a7c7c13694c",
   "metadata": {},
   "outputs": [],
   "source": [
    "# Üst sınıf oluştur \"Pizza\"\n",
    "class Pizza:\n",
    "    def __init__(self):\n",
    "        self.description = \"Bilinmeyen Pizza\"\n",
    "\n",
    "    def get_description(self):\n",
    "        return self.description\n",
    "\n",
    "    def get_cost(self):\n",
    "        return self.__class__.cost\n",
    "\n",
    "\n",
    "# Alt sınıf oluştur \"Pizza\"\n",
    "class KlasikPizza(Pizza):\n",
    "    \n",
    "    cost = 15.0\n",
    "    def __init__(self):\n",
    "        super().__init__()\n",
    "        self.description = \"Klasik Pizza\"\n",
    "\n",
    "\n",
    "\n",
    "class MargaritaPizza(Pizza):\n",
    "\n",
    "    cost = 20.0\n",
    "    def __init__(self):\n",
    "        super().__init__()\n",
    "        self.description = \"Margarita Pizza\"\n",
    "\n",
    "\n",
    "class TurkPizza(Pizza):\n",
    "    \n",
    "    cost = 20.0\n",
    "    def __init__(self):\n",
    "        super().__init__()\n",
    "        self.description = \"Turk Pizza\"\n",
    "\n",
    "\n",
    "class SadePizza(Pizza):\n",
    "    \n",
    "    cost = 12.0\n",
    "    def __init__(self):\n",
    "        super().__init__()\n",
    "        self.description = \"Sade Pizza\""
   ]
  },
  {
   "cell_type": "code",
   "execution_count": 6,
   "id": "918c98da-e575-482f-9f5d-8c65f7f98360",
   "metadata": {},
   "outputs": [],
   "source": [
    "# Üst sınıf oluştur \"Decorator\"\n",
    "class SosDecorator(Pizza):\n",
    "    def __init__(self, component):\n",
    "        self.component = component\n",
    "\n",
    "    def get_cost(self):\n",
    "        return self.component.get_cost() + Pizza.get_cost(self)\n",
    "\n",
    "    def get_description(self):\n",
    "        return self.component.get_description() + \" \" + Pizza.get_description(self)\n",
    "\n",
    "\n",
    "class Zeytin(SosDecorator):\n",
    "    \n",
    "    cost = 2.0\n",
    "    def __init__(self, component):\n",
    "        super().__init__(component)\n",
    "        self.description = \"Zeytin\"\n",
    "        \n",
    "\n",
    "class Mantarlar(SosDecorator):\n",
    "    cost = 2.5\n",
    "    def __init__(self, component):\n",
    "        super().__init__(component)\n",
    "        self.description = \"Mantarlar\"\n",
    "\n",
    "\n",
    "\n",
    "class KeciPeyniri(SosDecorator):\n",
    "    \n",
    "    cost = 3.0\n",
    "    def __init__(self, component):\n",
    "        super().__init__(component)\n",
    "        self.description = \"Keci Peyniri\"\n",
    "\n",
    "\n",
    "class Et(SosDecorator):\n",
    "    \n",
    "    cost = 4.0\n",
    "    def __init__(self, component):\n",
    "        super().__init__(component)\n",
    "        self.description = \"Et\"\n",
    "\n",
    "\n",
    "class Sogan(SosDecorator):\n",
    "    \n",
    "    cost = 1.5\n",
    "    def __init__(self, component):\n",
    "        super().__init__(component)\n",
    "        self.description = \"Sogan\"\n",
    "\n",
    "\n",
    "class Misir(SosDecorator):\n",
    "\n",
    "    cost = 1.5\n",
    "    def __init__(self, component):\n",
    "        super().__init__(component)\n",
    "        self.description = \"Misir\"\n"
   ]
  },
  {
   "cell_type": "code",
   "execution_count": 7,
   "id": "8d09026a-3360-4274-9bd0-e671c760caa0",
   "metadata": {},
   "outputs": [
    {
     "name": "stdout",
     "output_type": "stream",
     "text": [
      "Margarita Pizza\n",
      "20.0\n"
     ]
    }
   ],
   "source": [
    "print(MargaritaPizza().get_description())\n",
    "print(MargaritaPizza().get_cost())\n"
   ]
  },
  {
   "cell_type": "code",
   "execution_count": 8,
   "id": "e226ebdc-1901-4df3-ae16-f2024ca0d79c",
   "metadata": {},
   "outputs": [
    {
     "name": "stdout",
     "output_type": "stream",
     "text": [
      "Margarita Pizza Misir\n",
      "24.0\n"
     ]
    }
   ],
   "source": [
    "print(Misir(MargaritaPizza()).get_description())\n",
    "print(Et(MargaritaPizza()).get_cost())\n"
   ]
  },
  {
   "cell_type": "code",
   "execution_count": 9,
   "id": "4f319dca-e722-4f27-b6c6-692bed6c9c1c",
   "metadata": {},
   "outputs": [
    {
     "name": "stdin",
     "output_type": "stream",
     "text": [
      "pizza:  TurkPizza\n",
      "sos seçin:  KeciPeyniri\n"
     ]
    },
    {
     "name": "stdout",
     "output_type": "stream",
     "text": [
      "23.0\n",
      "Turk Pizza Keci Peyniri\n"
     ]
    }
   ],
   "source": [
    "pizzalar = {\"SadePizza\": SadePizza, \"MargaritaPizza\": MargaritaPizza, \"TurkPizza\": TurkPizza, \"KlasikPizza\": KlasikPizza }\n",
    "soslar = {\"Misir\": Misir, \"Sogan\": Sogan, \"Et\": Et,\"KeciPeyniri\": KeciPeyniri, \"Zeytin\": Zeytin, \"Mantarlar\": Mantarlar}\n",
    "pizza = input(\"pizza: \")\n",
    "sos = input('sos seçin: ')\n",
    "\n",
    "pizza = pizzalar[pizza]()\n",
    "pizza_sos = soslar[sos](pizza)\n",
    "\n",
    "cost = pizza_sos.get_cost()\n",
    "des = pizza_sos.get_description()\n",
    "\n",
    "print(cost)\n",
    "print(des)"
   ]
  },
  {
   "cell_type": "code",
   "execution_count": 10,
   "id": "44e81a2a-4d39-406c-bf76-7a2b3411384a",
   "metadata": {},
   "outputs": [
    {
     "name": "stdin",
     "output_type": "stream",
     "text": [
      "Kullanıcı Adı:  Recep Recep\n",
      "Kullanıcı Kimliği:  156584\n",
      "Kredi Kartı Bilgileri:  12545\n",
      "Sipariş Açıklaması:  çabuk\n",
      "Kredi Kartı Şifresi:  4566\n"
     ]
    }
   ],
   "source": [
    "# Kullanıcıdan veri girişi yapılacak alanlar\n",
    "kullanici_adi = input(\"Kullanıcı Adı: \") \n",
    "kullanici_kimlik = input(\"Kullanıcı Kimliği: \")\n",
    "kredi_karti_bilgileri = input(\"Kredi Kartı Bilgileri: \")\n",
    "siparis_aciklamasi = input(\"Sipariş Açıklaması: \")\n",
    "kredi_karti_sifresi = input(\"Kredi Kartı Şifresi: \")\n",
    "\n",
    "now = datetime.now()\n",
    "order_time = now.strftime(\"%d/%m/%Y %H:%M:%S\")\n",
    "\n",
    "# csv dosyasına yazmak için liste oluşturuyoruz\n",
    "veriler = [pizza, pizza_sos, kullanici_adi, kullanici_kimlik, kredi_karti_bilgileri, siparis_aciklamasi, kredi_karti_sifresi, order_time]\n",
    "\n",
    "# csv dosyasına yazmak için açıyoruz ve verileri yazıyoruz\n",
    "with open('Orders_Database.csv', mode='a') as file:\n",
    "    writer = csv.writer(file)\n",
    "    writer.writerow(veriler)\n",
    "\n",
    "    \n"
   ]
  },
  {
   "cell_type": "code",
   "execution_count": null,
   "id": "b0bef7da-a0b8-4f09-a5dd-c9918a746163",
   "metadata": {},
   "outputs": [],
   "source": []
  }
 ],
 "metadata": {
  "kernelspec": {
   "display_name": "Python 3 (ipykernel)",
   "language": "python",
   "name": "python3"
  },
  "language_info": {
   "codemirror_mode": {
    "name": "ipython",
    "version": 3
   },
   "file_extension": ".py",
   "mimetype": "text/x-python",
   "name": "python",
   "nbconvert_exporter": "python",
   "pygments_lexer": "ipython3",
   "version": "3.9.13"
  }
 },
 "nbformat": 4,
 "nbformat_minor": 5
}
